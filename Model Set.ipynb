{
 "cells": [
  {
   "cell_type": "code",
   "execution_count": 1,
   "metadata": {},
   "outputs": [],
   "source": [
    "#importing required libraries\n",
    "import pandas as pd\n",
    "import numpy as np\n",
    "import matplotlib.pyplot as plt #visualization\n",
    "%matplotlib inline \n",
    "#sns.set(color_codes=True)"
   ]
  },
  {
   "cell_type": "code",
   "execution_count": 2,
   "metadata": {},
   "outputs": [],
   "source": [
    "#importing train datasets\n",
    "df_train= pd.read_csv('C:/Users/tamak/Desktop/Data Science/Predicts/Predict 4/EDSA_ZM-Team1/train_set.csv')\n",
    "#importing test datasets\n",
    "df_test = pd.read_csv('C:/Users/tamak/Desktop/Data Science/Predicts/Predict 4/EDSA_ZM-Team1/test_set.csv')"
   ]
  },
  {
   "cell_type": "markdown",
   "metadata": {},
   "source": [
    "Some research was performed to determine which months Golden Apples were harvested in South Africa. More information may be found at this link:\n",
    "https://www.dennegeur.co.za/products/#:~:text=Golden%20Delicious%20was%20found%20as,to%20a%20golden%20yellow%20colour.\n",
    "\n",
    "\n",
    "What did seem of interest was the following:\n",
    "\n",
    "\"Golden Delicious\n",
    "Golden Delicious was found as a seedling in West Virginia, USA, in the 1880’s and introduced into South Africa in 1930 by Molteno Brothers of Grabouw. **Golden delicious is harvested from late February to mid March.** It is a medium to large apple, green when harvested, ripening to a golden yellow colour.\""
   ]
  },
  {
   "cell_type": "markdown",
   "metadata": {},
   "source": [
    "Here, a copy of the training set is created (as to not overwrite the origional dataset in case of errors).\n",
    "The following columns, which seemed to have little correlation with avg_price_per_kg, were dropped:\n",
    "\n",
    "- Commodities (after we subset the data to select only rows relevant to Golden Apples, this row becomes redundant)\n",
    "- Province (the dummy variables columns created from this column were numerous and did not seem to greatly impact model performance)\n",
    "- Size_Grade (the same reasoning for dropping 'Province')\n",
    "- Container (the same reasoning for dropping 'Province' and 'Size_Grade')\n",
    "- Date (after extracting the month for creation of 'Month' and 'Harvest_Seasons' columns)\n",
    "\n",
    "As stated above, the 'Month' column is extracted from the date column and a new column 'Harvest_Season' is created (and dummy encoded) based on the research found."
   ]
  },
  {
   "cell_type": "code",
   "execution_count": 3,
   "metadata": {},
   "outputs": [
    {
     "data": {
      "text/html": [
       "<div>\n",
       "<style scoped>\n",
       "    .dataframe tbody tr th:only-of-type {\n",
       "        vertical-align: middle;\n",
       "    }\n",
       "\n",
       "    .dataframe tbody tr th {\n",
       "        vertical-align: top;\n",
       "    }\n",
       "\n",
       "    .dataframe thead th {\n",
       "        text-align: right;\n",
       "    }\n",
       "</style>\n",
       "<table border=\"1\" class=\"dataframe\">\n",
       "  <thead>\n",
       "    <tr style=\"text-align: right;\">\n",
       "      <th></th>\n",
       "      <th>Weight_Kg</th>\n",
       "      <th>Low_Price</th>\n",
       "      <th>High_Price</th>\n",
       "      <th>Sales_Total</th>\n",
       "      <th>Total_Qty_Sold</th>\n",
       "      <th>Total_Kg_Sold</th>\n",
       "      <th>Stock_On_Hand</th>\n",
       "      <th>avg_price_per_kg</th>\n",
       "      <th>Province_EASTERN CAPE</th>\n",
       "      <th>Province_NATAL</th>\n",
       "      <th>...</th>\n",
       "      <th>Container_EF120</th>\n",
       "      <th>Container_EG140</th>\n",
       "      <th>Container_IA400</th>\n",
       "      <th>Container_JE090</th>\n",
       "      <th>Container_JG110</th>\n",
       "      <th>Container_M4183</th>\n",
       "      <th>Container_M6125</th>\n",
       "      <th>Container_M9125</th>\n",
       "      <th>Month</th>\n",
       "      <th>Harvest_Season_Yes</th>\n",
       "    </tr>\n",
       "  </thead>\n",
       "  <tbody>\n",
       "    <tr>\n",
       "      <th>1</th>\n",
       "      <td>18.3</td>\n",
       "      <td>150.0</td>\n",
       "      <td>170.0</td>\n",
       "      <td>51710.0</td>\n",
       "      <td>332</td>\n",
       "      <td>6075.6</td>\n",
       "      <td>822</td>\n",
       "      <td>8.51</td>\n",
       "      <td>0</td>\n",
       "      <td>0</td>\n",
       "      <td>...</td>\n",
       "      <td>0</td>\n",
       "      <td>0</td>\n",
       "      <td>0</td>\n",
       "      <td>0</td>\n",
       "      <td>0</td>\n",
       "      <td>1</td>\n",
       "      <td>0</td>\n",
       "      <td>0</td>\n",
       "      <td>9</td>\n",
       "      <td>0</td>\n",
       "    </tr>\n",
       "    <tr>\n",
       "      <th>7</th>\n",
       "      <td>11.0</td>\n",
       "      <td>50.0</td>\n",
       "      <td>50.0</td>\n",
       "      <td>16000.0</td>\n",
       "      <td>320</td>\n",
       "      <td>3520.0</td>\n",
       "      <td>0</td>\n",
       "      <td>4.55</td>\n",
       "      <td>0</td>\n",
       "      <td>0</td>\n",
       "      <td>...</td>\n",
       "      <td>0</td>\n",
       "      <td>0</td>\n",
       "      <td>0</td>\n",
       "      <td>0</td>\n",
       "      <td>1</td>\n",
       "      <td>0</td>\n",
       "      <td>0</td>\n",
       "      <td>0</td>\n",
       "      <td>4</td>\n",
       "      <td>0</td>\n",
       "    </tr>\n",
       "    <tr>\n",
       "      <th>24</th>\n",
       "      <td>9.0</td>\n",
       "      <td>55.0</td>\n",
       "      <td>55.0</td>\n",
       "      <td>990.0</td>\n",
       "      <td>18</td>\n",
       "      <td>162.0</td>\n",
       "      <td>1506</td>\n",
       "      <td>6.11</td>\n",
       "      <td>0</td>\n",
       "      <td>0</td>\n",
       "      <td>...</td>\n",
       "      <td>0</td>\n",
       "      <td>0</td>\n",
       "      <td>0</td>\n",
       "      <td>1</td>\n",
       "      <td>0</td>\n",
       "      <td>0</td>\n",
       "      <td>0</td>\n",
       "      <td>0</td>\n",
       "      <td>4</td>\n",
       "      <td>0</td>\n",
       "    </tr>\n",
       "    <tr>\n",
       "      <th>40</th>\n",
       "      <td>18.3</td>\n",
       "      <td>80.0</td>\n",
       "      <td>120.0</td>\n",
       "      <td>32020.0</td>\n",
       "      <td>388</td>\n",
       "      <td>7100.4</td>\n",
       "      <td>443</td>\n",
       "      <td>4.51</td>\n",
       "      <td>0</td>\n",
       "      <td>0</td>\n",
       "      <td>...</td>\n",
       "      <td>0</td>\n",
       "      <td>0</td>\n",
       "      <td>0</td>\n",
       "      <td>0</td>\n",
       "      <td>0</td>\n",
       "      <td>1</td>\n",
       "      <td>0</td>\n",
       "      <td>0</td>\n",
       "      <td>5</td>\n",
       "      <td>0</td>\n",
       "    </tr>\n",
       "    <tr>\n",
       "      <th>69</th>\n",
       "      <td>400.0</td>\n",
       "      <td>1800.0</td>\n",
       "      <td>1800.0</td>\n",
       "      <td>1800.0</td>\n",
       "      <td>1</td>\n",
       "      <td>400.0</td>\n",
       "      <td>2</td>\n",
       "      <td>4.50</td>\n",
       "      <td>1</td>\n",
       "      <td>0</td>\n",
       "      <td>...</td>\n",
       "      <td>0</td>\n",
       "      <td>0</td>\n",
       "      <td>1</td>\n",
       "      <td>0</td>\n",
       "      <td>0</td>\n",
       "      <td>0</td>\n",
       "      <td>0</td>\n",
       "      <td>0</td>\n",
       "      <td>9</td>\n",
       "      <td>0</td>\n",
       "    </tr>\n",
       "  </tbody>\n",
       "</table>\n",
       "<p>5 rows × 35 columns</p>\n",
       "</div>"
      ],
      "text/plain": [
       "    Weight_Kg  Low_Price  High_Price  Sales_Total  Total_Qty_Sold  \\\n",
       "1        18.3      150.0       170.0      51710.0             332   \n",
       "7        11.0       50.0        50.0      16000.0             320   \n",
       "24        9.0       55.0        55.0        990.0              18   \n",
       "40       18.3       80.0       120.0      32020.0             388   \n",
       "69      400.0     1800.0      1800.0       1800.0               1   \n",
       "\n",
       "    Total_Kg_Sold  Stock_On_Hand  avg_price_per_kg  Province_EASTERN CAPE  \\\n",
       "1          6075.6            822              8.51                      0   \n",
       "7          3520.0              0              4.55                      0   \n",
       "24          162.0           1506              6.11                      0   \n",
       "40         7100.4            443              4.51                      0   \n",
       "69          400.0              2              4.50                      1   \n",
       "\n",
       "    Province_NATAL  ...  Container_EF120  Container_EG140  Container_IA400  \\\n",
       "1                0  ...                0                0                0   \n",
       "7                0  ...                0                0                0   \n",
       "24               0  ...                0                0                0   \n",
       "40               0  ...                0                0                0   \n",
       "69               0  ...                0                0                1   \n",
       "\n",
       "    Container_JE090  Container_JG110  Container_M4183  Container_M6125  \\\n",
       "1                 0                0                1                0   \n",
       "7                 0                1                0                0   \n",
       "24                1                0                0                0   \n",
       "40                0                0                1                0   \n",
       "69                0                0                0                0   \n",
       "\n",
       "    Container_M9125  Month  Harvest_Season_Yes  \n",
       "1                 0      9                   0  \n",
       "7                 0      4                   0  \n",
       "24                0      4                   0  \n",
       "40                0      5                   0  \n",
       "69                0      9                   0  \n",
       "\n",
       "[5 rows x 35 columns]"
      ]
     },
     "execution_count": 3,
     "metadata": {},
     "output_type": "execute_result"
    }
   ],
   "source": [
    "model_train = df_train.loc[df_train['Commodities'] == 'APPLE GOLDEN DELICIOUS'].copy()\n",
    "\n",
    "model_train = model_train.drop('Commodities',axis=1)\n",
    "\n",
    "#model_train = model_train.drop('Province',axis=1)\n",
    "model_train =  pd.get_dummies(model_train, drop_first = True, columns=['Province'])\n",
    "#model_train = model_train.drop('Size_Grade',axis=1)\n",
    "model_train =  pd.get_dummies(model_train, drop_first = True, columns=['Size_Grade'])\n",
    "#model_train = model_train.drop('Container',axis=1)\n",
    "model_train =  pd.get_dummies(model_train, drop_first = True, columns=['Container'])\n",
    "\n",
    "model_train['Month'] = pd.DatetimeIndex(model_train['Date']).month\n",
    "model_train = model_train.drop('Date',axis=1)\n",
    "\n",
    "model_train[\"Harvest_Season\"] = model_train[\"Month\"].astype(str)\n",
    "model_train[\"Harvest_Season\"].replace({\"1\": \"No\", \"2\": \"Yes\", \"12\" : \"No\", \"3\" : \"Yes\", \"4\" : \"No\", \"5\" : \"No\", \"6\" : \"No\", \"7\": \"No\", \"8\" : \"No\", \"9\" : \"No\", \"10\" : \"No\", \"11\" : \"No\"}, inplace=True)\n",
    "model_train =  pd.get_dummies(model_train, drop_first = True, columns=['Harvest_Season'])\n",
    "\n",
    "model_train.head()"
   ]
  },
  {
   "cell_type": "markdown",
   "metadata": {},
   "source": [
    "The changes to the training set are also applied to a copy of the test set data - for consistancy with regards to the number of features to make predictions on once we have found our optimal model.\n",
    "\n",
    "The test dataset also has an 'Index' column which also needs to be dropped to ensure consistancy"
   ]
  },
  {
   "cell_type": "code",
   "execution_count": 4,
   "metadata": {},
   "outputs": [
    {
     "data": {
      "text/html": [
       "<div>\n",
       "<style scoped>\n",
       "    .dataframe tbody tr th:only-of-type {\n",
       "        vertical-align: middle;\n",
       "    }\n",
       "\n",
       "    .dataframe tbody tr th {\n",
       "        vertical-align: top;\n",
       "    }\n",
       "\n",
       "    .dataframe thead th {\n",
       "        text-align: right;\n",
       "    }\n",
       "</style>\n",
       "<table border=\"1\" class=\"dataframe\">\n",
       "  <thead>\n",
       "    <tr style=\"text-align: right;\">\n",
       "      <th></th>\n",
       "      <th>Weight_Kg</th>\n",
       "      <th>Low_Price</th>\n",
       "      <th>High_Price</th>\n",
       "      <th>Sales_Total</th>\n",
       "      <th>Total_Qty_Sold</th>\n",
       "      <th>Total_Kg_Sold</th>\n",
       "      <th>Stock_On_Hand</th>\n",
       "      <th>Province_EASTERN CAPE</th>\n",
       "      <th>Province_NATAL</th>\n",
       "      <th>Province_ORANGE FREE STATE</th>\n",
       "      <th>...</th>\n",
       "      <th>Container_EF120</th>\n",
       "      <th>Container_EG140</th>\n",
       "      <th>Container_IA400</th>\n",
       "      <th>Container_JE090</th>\n",
       "      <th>Container_JG110</th>\n",
       "      <th>Container_M4183</th>\n",
       "      <th>Container_M6125</th>\n",
       "      <th>Container_M9125</th>\n",
       "      <th>Month</th>\n",
       "      <th>Harvest_Season_Yes</th>\n",
       "    </tr>\n",
       "  </thead>\n",
       "  <tbody>\n",
       "    <tr>\n",
       "      <th>0</th>\n",
       "      <td>12.0</td>\n",
       "      <td>128.0</td>\n",
       "      <td>136.0</td>\n",
       "      <td>5008.0</td>\n",
       "      <td>38</td>\n",
       "      <td>456.0</td>\n",
       "      <td>0</td>\n",
       "      <td>0</td>\n",
       "      <td>0</td>\n",
       "      <td>0</td>\n",
       "      <td>...</td>\n",
       "      <td>0</td>\n",
       "      <td>0</td>\n",
       "      <td>0</td>\n",
       "      <td>0</td>\n",
       "      <td>0</td>\n",
       "      <td>0</td>\n",
       "      <td>0</td>\n",
       "      <td>0</td>\n",
       "      <td>7</td>\n",
       "      <td>0</td>\n",
       "    </tr>\n",
       "    <tr>\n",
       "      <th>1</th>\n",
       "      <td>18.3</td>\n",
       "      <td>220.0</td>\n",
       "      <td>220.0</td>\n",
       "      <td>1760.0</td>\n",
       "      <td>8</td>\n",
       "      <td>146.4</td>\n",
       "      <td>2</td>\n",
       "      <td>0</td>\n",
       "      <td>0</td>\n",
       "      <td>0</td>\n",
       "      <td>...</td>\n",
       "      <td>0</td>\n",
       "      <td>0</td>\n",
       "      <td>0</td>\n",
       "      <td>0</td>\n",
       "      <td>0</td>\n",
       "      <td>1</td>\n",
       "      <td>0</td>\n",
       "      <td>0</td>\n",
       "      <td>1</td>\n",
       "      <td>0</td>\n",
       "    </tr>\n",
       "    <tr>\n",
       "      <th>2</th>\n",
       "      <td>12.0</td>\n",
       "      <td>120.0</td>\n",
       "      <td>120.0</td>\n",
       "      <td>720.0</td>\n",
       "      <td>6</td>\n",
       "      <td>72.0</td>\n",
       "      <td>45</td>\n",
       "      <td>0</td>\n",
       "      <td>0</td>\n",
       "      <td>0</td>\n",
       "      <td>...</td>\n",
       "      <td>0</td>\n",
       "      <td>0</td>\n",
       "      <td>0</td>\n",
       "      <td>0</td>\n",
       "      <td>0</td>\n",
       "      <td>0</td>\n",
       "      <td>0</td>\n",
       "      <td>0</td>\n",
       "      <td>8</td>\n",
       "      <td>0</td>\n",
       "    </tr>\n",
       "    <tr>\n",
       "      <th>3</th>\n",
       "      <td>18.3</td>\n",
       "      <td>160.0</td>\n",
       "      <td>160.0</td>\n",
       "      <td>160.0</td>\n",
       "      <td>1</td>\n",
       "      <td>18.3</td>\n",
       "      <td>8</td>\n",
       "      <td>0</td>\n",
       "      <td>0</td>\n",
       "      <td>0</td>\n",
       "      <td>...</td>\n",
       "      <td>0</td>\n",
       "      <td>0</td>\n",
       "      <td>0</td>\n",
       "      <td>0</td>\n",
       "      <td>0</td>\n",
       "      <td>1</td>\n",
       "      <td>0</td>\n",
       "      <td>0</td>\n",
       "      <td>5</td>\n",
       "      <td>0</td>\n",
       "    </tr>\n",
       "    <tr>\n",
       "      <th>4</th>\n",
       "      <td>18.3</td>\n",
       "      <td>140.0</td>\n",
       "      <td>160.0</td>\n",
       "      <td>14140.0</td>\n",
       "      <td>100</td>\n",
       "      <td>1830.0</td>\n",
       "      <td>19</td>\n",
       "      <td>0</td>\n",
       "      <td>0</td>\n",
       "      <td>0</td>\n",
       "      <td>...</td>\n",
       "      <td>0</td>\n",
       "      <td>0</td>\n",
       "      <td>0</td>\n",
       "      <td>0</td>\n",
       "      <td>0</td>\n",
       "      <td>1</td>\n",
       "      <td>0</td>\n",
       "      <td>0</td>\n",
       "      <td>5</td>\n",
       "      <td>0</td>\n",
       "    </tr>\n",
       "  </tbody>\n",
       "</table>\n",
       "<p>5 rows × 34 columns</p>\n",
       "</div>"
      ],
      "text/plain": [
       "   Weight_Kg  Low_Price  High_Price  Sales_Total  Total_Qty_Sold  \\\n",
       "0       12.0      128.0       136.0       5008.0              38   \n",
       "1       18.3      220.0       220.0       1760.0               8   \n",
       "2       12.0      120.0       120.0        720.0               6   \n",
       "3       18.3      160.0       160.0        160.0               1   \n",
       "4       18.3      140.0       160.0      14140.0             100   \n",
       "\n",
       "   Total_Kg_Sold  Stock_On_Hand  Province_EASTERN CAPE  Province_NATAL  \\\n",
       "0          456.0              0                      0               0   \n",
       "1          146.4              2                      0               0   \n",
       "2           72.0             45                      0               0   \n",
       "3           18.3              8                      0               0   \n",
       "4         1830.0             19                      0               0   \n",
       "\n",
       "   Province_ORANGE FREE STATE  ...  Container_EF120  Container_EG140  \\\n",
       "0                           0  ...                0                0   \n",
       "1                           0  ...                0                0   \n",
       "2                           0  ...                0                0   \n",
       "3                           0  ...                0                0   \n",
       "4                           0  ...                0                0   \n",
       "\n",
       "   Container_IA400  Container_JE090  Container_JG110  Container_M4183  \\\n",
       "0                0                0                0                0   \n",
       "1                0                0                0                1   \n",
       "2                0                0                0                0   \n",
       "3                0                0                0                1   \n",
       "4                0                0                0                1   \n",
       "\n",
       "   Container_M6125  Container_M9125  Month  Harvest_Season_Yes  \n",
       "0                0                0      7                   0  \n",
       "1                0                0      1                   0  \n",
       "2                0                0      8                   0  \n",
       "3                0                0      5                   0  \n",
       "4                0                0      5                   0  \n",
       "\n",
       "[5 rows x 34 columns]"
      ]
     },
     "execution_count": 4,
     "metadata": {},
     "output_type": "execute_result"
    }
   ],
   "source": [
    "model_test = df_test.loc[df_test['Commodities'] == 'APPLE GOLDEN DELICIOUS'].copy()\n",
    "\n",
    "model_test = model_test.drop('Commodities',axis=1)\n",
    "\n",
    "#model_test = model_test.drop('Province',axis=1)\n",
    "model_test =  pd.get_dummies(model_test, drop_first = True, columns=['Province'])\n",
    "#model_test = model_test.drop('Size_Grade',axis=1)\n",
    "model_test =  pd.get_dummies(model_test, drop_first = True, columns=['Size_Grade'])\n",
    "#model_test = model_test.drop('Container',axis=1)\n",
    "model_test =  pd.get_dummies(model_test, drop_first = True, columns=['Container'])\n",
    "\n",
    "model_test['Month'] = pd.DatetimeIndex(model_test['Date']).month\n",
    "model_test = model_test.drop('Date',axis=1)\n",
    "\n",
    "model_test[\"Harvest_Season\"] = model_test[\"Month\"].astype(str)\n",
    "model_test[\"Harvest_Season\"].replace({\"1\": \"No\", \"2\": \"Yes\", \"12\" : \"No\", \"3\" : \"Yes\", \"4\" : \"No\", \"5\" : \"No\", \"6\" : \"No\", \"7\": \"No\", \"8\" : \"No\", \"9\" : \"No\", \"10\" : \"No\", \"11\" : \"No\"}, inplace=True)\n",
    "model_test =  pd.get_dummies(model_test, drop_first = True, columns=['Harvest_Season'])\n",
    "model_test = model_test.drop('Index',axis=1)\n",
    "\n",
    "model_test.head()"
   ]
  },
  {
   "cell_type": "markdown",
   "metadata": {},
   "source": [
    "Here train_test_split is imported from Sci-kit Learn and data is divided into training and testing data.\n",
    "\n",
    "*StandardScaler was also imported and fit but seemed to lower model accuracy so it was left out*\n",
    "\n",
    "A few other points to consider:\n",
    "\n",
    "- Sci-kit Learn metrics were also imported to calculate performance metrics.\n",
    "- A test_size of 33% was decided upon as the 'missing' training data on Kaggle also comprised of 33% of the data \n",
    "- A random_state of 42 was chosen"
   ]
  },
  {
   "cell_type": "code",
   "execution_count": 5,
   "metadata": {},
   "outputs": [],
   "source": [
    "from sklearn.model_selection import train_test_split as tts\n",
    "from sklearn import metrics\n",
    "#from sklearn.preprocessing import StandardScaler\n",
    "import math\n",
    "\n",
    "y = model_train.avg_price_per_kg #defining label\n",
    "x = model_train.drop('avg_price_per_kg',axis=1) #defining features\n",
    "\n",
    "# create scaler\n",
    "#scaler = StandardScaler().fit(x)\n",
    "# scaling features\n",
    "#X_scaled = scaler.transform(x)\n",
    "\n",
    "x_train, x_test, y_train, y_test = tts(x, y, test_size=0.05, random_state=42) # creating train-test-split\n",
    "\n",
    "# converting series to arrays\n",
    "y_train = y_train.to_numpy()\n",
    "y_test = y_test.to_numpy()"
   ]
  },
  {
   "cell_type": "markdown",
   "metadata": {},
   "source": [
    "Here LinearRegression is imported from Sci-kit Learn. The model is fitted and it's performance metrics are calculated:"
   ]
  },
  {
   "cell_type": "code",
   "execution_count": 6,
   "metadata": {},
   "outputs": [
    {
     "name": "stdout",
     "output_type": "stream",
     "text": [
      "Train MSE  1.891157457697162\n",
      "Test MSE  1.776342385583127\n",
      "RMSE  1.332794952565145\n"
     ]
    }
   ],
   "source": [
    "from sklearn.linear_model import LinearRegression\n",
    "\n",
    "model_lr = LinearRegression() \n",
    "model_lr.fit(x_train, y_train) \n",
    "\n",
    "print(\"Train MSE \" ,metrics.mean_squared_error(y_train, model_lr.predict(x_train)))\n",
    "print(\"Test MSE \" ,metrics.mean_squared_error(y_test, model_lr.predict(x_test)))\n",
    "print(\"RMSE \", math.sqrt(metrics.mean_squared_error(y_test, model_lr.predict(x_test))))"
   ]
  },
  {
   "cell_type": "markdown",
   "metadata": {},
   "source": [
    "Based on these metrics, the Linear Regression Model does not appear to be performing well..."
   ]
  },
  {
   "cell_type": "markdown",
   "metadata": {},
   "source": [
    "Here Lasso is imported from Sci-kit Learn. The model is fitted and it's performance metrics are calculated:"
   ]
  },
  {
   "cell_type": "code",
   "execution_count": 7,
   "metadata": {},
   "outputs": [
    {
     "name": "stdout",
     "output_type": "stream",
     "text": [
      "Train MSE  2.616863906377461\n",
      "Test MSE  2.7734931544345223\n",
      "RMSE  1.6653807836151233\n"
     ]
    }
   ],
   "source": [
    "from sklearn.linear_model import Lasso\n",
    "\n",
    "model_las = Lasso(alpha=0.1, random_state=42)\n",
    "model_las.fit(x_train, y_train)\n",
    "\n",
    "print(\"Train MSE \" ,metrics.mean_squared_error(y_train, model_las.predict(x_train)))\n",
    "print(\"Test MSE \" ,metrics.mean_squared_error(y_test, model_las.predict(x_test)))\n",
    "print(\"RMSE \", math.sqrt(metrics.mean_squared_error(y_test, model_las.predict(x_test))))"
   ]
  },
  {
   "cell_type": "markdown",
   "metadata": {},
   "source": [
    "Based on these metrics, the Lasso Model appears to be performing even worse than the Linear Regression Model. The lowest scores for the Lasso Model were calcualted at 0.1 alpha. An alpha of 0 is essentially a Linear Model... "
   ]
  },
  {
   "cell_type": "markdown",
   "metadata": {},
   "source": [
    "Here Ridge is imported from Sci-kit Learn. The model is fitted and it's performance metrics are calculated:"
   ]
  },
  {
   "cell_type": "code",
   "execution_count": 8,
   "metadata": {},
   "outputs": [
    {
     "name": "stdout",
     "output_type": "stream",
     "text": [
      "Train MSE  1.891220090847978\n",
      "Test MSE  1.7770616227451284\n",
      "RMSE  1.3330647481443383\n"
     ]
    }
   ],
   "source": [
    "from sklearn.linear_model import Ridge\n",
    "model_ridge = Ridge(alpha=0.1, random_state=42)\n",
    "model_ridge.fit(x_train, y_train)\n",
    "\n",
    "print(\"Train MSE \" ,metrics.mean_squared_error(y_train, model_ridge.predict(x_train)))\n",
    "print(\"Test MSE \" ,metrics.mean_squared_error(y_test, model_ridge.predict(x_test)))\n",
    "print(\"RMSE \", math.sqrt(metrics.mean_squared_error(y_test, model_ridge.predict(x_test))))"
   ]
  },
  {
   "cell_type": "markdown",
   "metadata": {},
   "source": [
    "As with the Lasso Model, the Ridge Model seems to perform best with a low Alpha, indicating a stronger Linear Model potentially. Ridge does appear to be performing better than Lasso, if only slightly."
   ]
  },
  {
   "cell_type": "markdown",
   "metadata": {},
   "source": [
    "Here we import RandomForestRegressor from Sci-kit Learn and fit a model. The paramaters which performed the best (on average -through trial-and-error) seemed to be the settings of:\n",
    "\n",
    "- max_features = 'auto'\n",
    "- vebose = 1"
   ]
  },
  {
   "cell_type": "code",
   "execution_count": 9,
   "metadata": {},
   "outputs": [
    {
     "name": "stderr",
     "output_type": "stream",
     "text": [
      "[Parallel(n_jobs=1)]: Using backend SequentialBackend with 1 concurrent workers.\n",
      "[Parallel(n_jobs=1)]: Done 100 out of 100 | elapsed:    2.4s finished\n",
      "[Parallel(n_jobs=1)]: Using backend SequentialBackend with 1 concurrent workers.\n",
      "[Parallel(n_jobs=1)]: Done 100 out of 100 | elapsed:    0.0s finished\n",
      "[Parallel(n_jobs=1)]: Using backend SequentialBackend with 1 concurrent workers.\n",
      "[Parallel(n_jobs=1)]: Done 100 out of 100 | elapsed:    0.0s finished\n",
      "[Parallel(n_jobs=1)]: Using backend SequentialBackend with 1 concurrent workers.\n",
      "[Parallel(n_jobs=1)]: Done 100 out of 100 | elapsed:    0.0s finished\n"
     ]
    },
    {
     "name": "stdout",
     "output_type": "stream",
     "text": [
      "Best Case Train MSE - Random Forest:  0.05051964297195234\n",
      "Best Case Test MSE - Random Forest:  0.2116736134693878\n",
      "Best Case RMSE - Random Forest:  0.46008000768278096\n"
     ]
    }
   ],
   "source": [
    "from sklearn.ensemble import RandomForestRegressor \n",
    "from sklearn.metrics import mean_squared_error as MSE\n",
    "\n",
    "model_rf = RandomForestRegressor(max_features=\"auto\", verbose=1)\n",
    "model_rf.fit(x_train,y_train)\n",
    "\n",
    "print(\"Best Case Train MSE - Random Forest: \" ,metrics.mean_squared_error(y_train, model_rf.predict(x_train)))\n",
    "print(\"Best Case Test MSE - Random Forest: \" ,metrics.mean_squared_error(y_test, model_rf.predict(x_test)))\n",
    "print(\"Best Case RMSE - Random Forest: \", math.sqrt(metrics.mean_squared_error(y_test, model_rf.predict(x_test))))"
   ]
  },
  {
   "cell_type": "markdown",
   "metadata": {},
   "source": [
    "Here one may observe that the Random Forest Model appears to be performing the best so far."
   ]
  },
  {
   "cell_type": "markdown",
   "metadata": {},
   "source": [
    "Here we import DecisionTreeRegressor from Sci-kit Learn and fit a model. The paramaters which performed the best (on average -through trial-and-error) seemed to be the settings of:\n",
    "\n",
    "- max_features = 'log2'\n",
    "- random_state = 42 (This is just to keep in line with a consistent random_state across all training sets)"
   ]
  },
  {
   "cell_type": "code",
   "execution_count": 10,
   "metadata": {},
   "outputs": [
    {
     "name": "stdout",
     "output_type": "stream",
     "text": [
      "Best Case Train MSE - Decision Tree:  3.489028814893364e-32\n",
      "Best Case Test MSE - Decision Tree:  1.1273438775510203\n",
      "Best Case RMSE - Decision Tree:  1.0617645113446863\n"
     ]
    }
   ],
   "source": [
    "from sklearn.tree import DecisionTreeRegressor\n",
    "\n",
    "model_dt = DecisionTreeRegressor(random_state=42, max_features='log2')\n",
    "model_dt.fit(x_train,y_train)\n",
    "\n",
    "print(\"Best Case Train MSE - Decision Tree: \" ,metrics.mean_squared_error(y_train, model_dt.predict(x_train)))\n",
    "print(\"Best Case Test MSE - Decision Tree: \" ,metrics.mean_squared_error(y_test, model_dt.predict(x_test)))\n",
    "print(\"Best Case RMSE - Decision Tree: \", math.sqrt(metrics.mean_squared_error(y_test, model_dt.predict(x_test))))"
   ]
  },
  {
   "cell_type": "markdown",
   "metadata": {},
   "source": [
    "As we can see the Decision Tree Model definately appears to perform worse than the Random Forest Model but better than the Ridge and Lasso Models."
   ]
  },
  {
   "cell_type": "markdown",
   "metadata": {},
   "source": [
    "Here we import BaggingRegressor for Sci-kit Learn.\n",
    "\n",
    "We set the following parameters to try and obtain the lowest scores:\n",
    "\n",
    "- n_estimators = 1000\n",
    "- bootstrap = True\n",
    "- random_state = 42\n",
    "- warm_start = False"
   ]
  },
  {
   "cell_type": "code",
   "execution_count": 11,
   "metadata": {},
   "outputs": [
    {
     "name": "stdout",
     "output_type": "stream",
     "text": [
      "Best Case Train MSE - Bagging:  0.052354120639644446\n",
      "Best Case Test MSE - Bagging:  0.21131087683367342\n",
      "Best Case RMSE - Bagging:  0.4596856282653107\n"
     ]
    }
   ],
   "source": [
    "from sklearn.ensemble import BaggingRegressor\n",
    "\n",
    "bag_reg = BaggingRegressor(n_estimators = 1000, warm_start = False, n_jobs = -1, bootstrap = True, random_state =42)\n",
    "bag_reg.fit(x_train,y_train)\n",
    "\n",
    "print(\"Best Case Train MSE - Bagging: \" ,metrics.mean_squared_error(y_train, bag_reg.predict(x_train)))\n",
    "print(\"Best Case Test MSE - Bagging: \" ,metrics.mean_squared_error(y_test, bag_reg.predict(x_test)))\n",
    "print(\"Best Case RMSE - Bagging: \", math.sqrt(metrics.mean_squared_error(y_test, bag_reg.predict(x_test))))"
   ]
  },
  {
   "cell_type": "markdown",
   "metadata": {},
   "source": [
    "This model also appear to be performing better than most. The only other comparable model is the Random Forest at this point..."
   ]
  },
  {
   "cell_type": "markdown",
   "metadata": {},
   "source": [
    "Here we import BaggingRegressor for Sci-kit Learn.\n",
    "\n",
    "We set the following parameters to try and obtain the lowest scores:\n",
    "\n",
    "- random_state = 42\n",
    "- base_estimator = model_dt (Decision Tree, Random Forest may have proven better but took to much time to run) \n",
    "- n_estimators = 100\n",
    "- learning_rate = 0.15"
   ]
  },
  {
   "cell_type": "code",
   "execution_count": 19,
   "metadata": {},
   "outputs": [
    {
     "name": "stdout",
     "output_type": "stream",
     "text": [
      "Best Case Train MSE - Boost:  0.0004216828478964407\n",
      "Best Case Test MSE - Boost:  0.28421326530612245\n",
      "Best Case RMSE - Boost:  0.5331165588369231\n"
     ]
    }
   ],
   "source": [
    "from sklearn.ensemble import AdaBoostRegressor\n",
    "\n",
    "bst_reg = AdaBoostRegressor(random_state=42, base_estimator = model_dt, n_estimators=100)\n",
    "bst_reg.fit(x_train,y_train)\n",
    "\n",
    "print(\"Best Case Train MSE - Boost: \" ,metrics.mean_squared_error(y_train, bst_reg.predict(x_train)))\n",
    "print(\"Best Case Test MSE - Boost: \" ,metrics.mean_squared_error(y_test, bst_reg.predict(x_test)))\n",
    "print(\"Best Case RMSE - Boost: \", math.sqrt(metrics.mean_squared_error(y_test, bst_reg.predict(x_test))))"
   ]
  },
  {
   "cell_type": "markdown",
   "metadata": {},
   "source": [
    "We can see that this model is also performing relatively well - other than on the actual training set."
   ]
  },
  {
   "cell_type": "markdown",
   "metadata": {},
   "source": [
    "Here we import VotingRegressor from Sci-kit Learn. We also select the models which have obtained the best accuaracy thus far:\n",
    "    \n",
    "- AdaBoost (bst_reg)\n",
    "- Bagging (bag_reg)\n",
    "- Random Forest (model_rf)\n",
    "\n",
    "And calculate the metrics:"
   ]
  },
  {
   "cell_type": "code",
   "execution_count": 26,
   "metadata": {},
   "outputs": [
    {
     "name": "stderr",
     "output_type": "stream",
     "text": [
      "[Parallel(n_jobs=1)]: Using backend SequentialBackend with 1 concurrent workers.\n",
      "[Parallel(n_jobs=1)]: Done 100 out of 100 | elapsed:    2.4s finished\n",
      "[Parallel(n_jobs=1)]: Using backend SequentialBackend with 1 concurrent workers.\n",
      "[Parallel(n_jobs=1)]: Done 100 out of 100 | elapsed:    0.0s finished\n"
     ]
    },
    {
     "name": "stdout",
     "output_type": "stream",
     "text": [
      "Best Case Train MSE - Voting:  0.02528189757946286\n"
     ]
    },
    {
     "name": "stderr",
     "output_type": "stream",
     "text": [
      "[Parallel(n_jobs=1)]: Using backend SequentialBackend with 1 concurrent workers.\n",
      "[Parallel(n_jobs=1)]: Done 100 out of 100 | elapsed:    0.0s finished\n"
     ]
    },
    {
     "name": "stdout",
     "output_type": "stream",
     "text": [
      "Best Case Test MSE - Voting:  0.2037024317072652\n",
      "Best Case RMSE - Voting:  0.451334057774577\n"
     ]
    },
    {
     "name": "stderr",
     "output_type": "stream",
     "text": [
      "[Parallel(n_jobs=1)]: Using backend SequentialBackend with 1 concurrent workers.\n",
      "[Parallel(n_jobs=1)]: Done 100 out of 100 | elapsed:    0.0s finished\n"
     ]
    }
   ],
   "source": [
    "from sklearn.ensemble import VotingRegressor\n",
    "\n",
    "# Define the models which we'll include in our ensemble. \n",
    "\n",
    "models = [(\"Boost\",bst_reg),(\"Bagging\",bag_reg),(\"Random Forest\",model_rf)]\n",
    "\n",
    "# Specify weights for weighted model averaging\n",
    "model_weightings = np.array([0.3,0.4,0.3])\n",
    "\n",
    "v_reg = VotingRegressor(estimators=models,weights=model_weightings)\n",
    "v_reg.fit(x_train,y_train)\n",
    "\n",
    "print(\"Best Case Train MSE - Voting: \" ,metrics.mean_squared_error(y_train, v_reg.predict(x_train)))\n",
    "print(\"Best Case Test MSE - Voting: \" ,metrics.mean_squared_error(y_test, v_reg.predict(x_test)))\n",
    "print(\"Best Case RMSE - Voting: \", math.sqrt(metrics.mean_squared_error(y_test, v_reg.predict(x_test))))"
   ]
  },
  {
   "cell_type": "markdown",
   "metadata": {},
   "source": [
    "Here we import StackingRegressor from Sci-kit Learn and try once more to obtain a better model"
   ]
  },
  {
   "cell_type": "code",
   "execution_count": 27,
   "metadata": {},
   "outputs": [
    {
     "name": "stderr",
     "output_type": "stream",
     "text": [
      "[Parallel(n_jobs=1)]: Using backend SequentialBackend with 1 concurrent workers.\n",
      "[Parallel(n_jobs=1)]: Done 100 out of 100 | elapsed:    0.0s finished\n"
     ]
    },
    {
     "name": "stdout",
     "output_type": "stream",
     "text": [
      "Best Case Train MSE - Stacking:  0.03889638601709057\n"
     ]
    },
    {
     "name": "stderr",
     "output_type": "stream",
     "text": [
      "[Parallel(n_jobs=1)]: Using backend SequentialBackend with 1 concurrent workers.\n",
      "[Parallel(n_jobs=1)]: Done 100 out of 100 | elapsed:    0.0s finished\n"
     ]
    },
    {
     "name": "stdout",
     "output_type": "stream",
     "text": [
      "Best Case Test MSE - Stacking:  0.18887027624492467\n",
      "Best Case RMSE - Stacking:  0.43459208028325214\n"
     ]
    },
    {
     "name": "stderr",
     "output_type": "stream",
     "text": [
      "[Parallel(n_jobs=1)]: Using backend SequentialBackend with 1 concurrent workers.\n",
      "[Parallel(n_jobs=1)]: Done 100 out of 100 | elapsed:    0.0s finished\n"
     ]
    }
   ],
   "source": [
    "from sklearn.ensemble import StackingRegressor\n",
    "\n",
    "meta_learner_reg = LinearRegression()\n",
    "\n",
    "s_reg = StackingRegressor(estimators=models, final_estimator=meta_learner_reg, passthrough = True,cv=10, n_jobs=-1) \n",
    "s_reg.fit(x_train,y_train)\n",
    "\n",
    "print(\"Best Case Train MSE - Stacking: \" ,metrics.mean_squared_error(y_train, s_reg.predict(x_train)))\n",
    "print(\"Best Case Test MSE - Stacking: \" ,metrics.mean_squared_error(y_test, s_reg.predict(x_test)))\n",
    "print(\"Best Case RMSE - Stacking: \", math.sqrt(metrics.mean_squared_error(y_test, s_reg.predict(x_test))))"
   ]
  },
  {
   "cell_type": "markdown",
   "metadata": {},
   "source": [
    "It appears as though the Stacking Model performs best over all and we use this model to predict the test set of the data:"
   ]
  },
  {
   "cell_type": "code",
   "execution_count": 28,
   "metadata": {},
   "outputs": [
    {
     "name": "stderr",
     "output_type": "stream",
     "text": [
      "[Parallel(n_jobs=1)]: Using backend SequentialBackend with 1 concurrent workers.\n",
      "[Parallel(n_jobs=1)]: Done 100 out of 100 | elapsed:    0.0s finished\n"
     ]
    }
   ],
   "source": [
    "y_pred = s_reg.predict(model_test)"
   ]
  },
  {
   "cell_type": "markdown",
   "metadata": {},
   "source": [
    "The variable 'Index' is set to the index of df_test to ensure correct submission of rows in test dataset."
   ]
  },
  {
   "cell_type": "code",
   "execution_count": 29,
   "metadata": {},
   "outputs": [],
   "source": [
    "index = df_test['Index']"
   ]
  },
  {
   "cell_type": "markdown",
   "metadata": {},
   "source": [
    "The 'submission' variable is used to create a dataframe to be exported:"
   ]
  },
  {
   "cell_type": "code",
   "execution_count": 30,
   "metadata": {},
   "outputs": [],
   "source": [
    "submission = pd.DataFrame({'Index' : index, 'avg_price_per_kg' : y_pred})"
   ]
  },
  {
   "cell_type": "markdown",
   "metadata": {},
   "source": [
    "The dataframe is then exported to a csv file for uploading to Kaggle:"
   ]
  },
  {
   "cell_type": "code",
   "execution_count": 31,
   "metadata": {},
   "outputs": [],
   "source": [
    "submission.to_csv(r'C:\\Users\\tamak\\Desktop\\Data Science\\Predicts\\Predict 4\\EDSA_ZM-Team1\\KaggleCSV.csv', index = False)"
   ]
  },
  {
   "cell_type": "markdown",
   "metadata": {},
   "source": []
  }
 ],
 "metadata": {
  "kernelspec": {
   "display_name": "Python 3",
   "language": "python",
   "name": "python3"
  },
  "language_info": {
   "codemirror_mode": {
    "name": "ipython",
    "version": 3
   },
   "file_extension": ".py",
   "mimetype": "text/x-python",
   "name": "python",
   "nbconvert_exporter": "python",
   "pygments_lexer": "ipython3",
   "version": "3.6.10"
  }
 },
 "nbformat": 4,
 "nbformat_minor": 4
}
