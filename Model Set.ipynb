{
 "cells": [
  {
   "cell_type": "code",
   "execution_count": 1,
   "metadata": {},
   "outputs": [],
   "source": [
    "#importing required libraries\n",
    "import pandas as pd\n",
    "import numpy as np\n",
    "import matplotlib.pyplot as plt #visualization\n",
    "%matplotlib inline \n",
    "#sns.set(color_codes=True)"
   ]
  },
  {
   "cell_type": "code",
   "execution_count": 2,
   "metadata": {},
   "outputs": [],
   "source": [
    "#importing train datasets\n",
    "df_train= pd.read_csv('C:/Users/tamak/Desktop/Data Science/Predicts/EDSA_ZM-Team1/train_set.csv')\n",
    "#importing test datasets\n",
    "df_test = pd.read_csv('C:/Users/tamak/Desktop/Data Science/Predicts/EDSA_ZM-Team1/test_set.csv')"
   ]
  },
  {
   "cell_type": "code",
   "execution_count": 3,
   "metadata": {},
   "outputs": [],
   "source": [
    "#creating a copy of train to work on so as to not overwrite origional train set data - only for golden apples\n",
    "model_train2 = df_train.loc[df_train['Commodities'] == 'APPLE GOLDEN DELICIOUS'].copy()\n",
    "\n",
    "model_train2 = model_train2.drop('Commodities',axis=1)\n",
    "model_train2 = model_train2.drop('Province',axis=1)\n",
    "model_train2 = model_train2.drop('Size_Grade',axis=1)\n",
    "model_train2 = model_train2.drop('Container',axis=1)\n",
    "model_train2 = model_train2.drop('Stock_On_Hand',axis=1)\n",
    "model_train2 = model_train2.drop('Total_Qty_Sold',axis=1)\n",
    "model_train2 = model_train2.drop('Weight_Kg',axis=1)\n",
    "model_train2 = model_train2.drop('Date',axis=1)\n",
    "\n",
    "#creating a copy of test to work on so as to not overwrite origional test set data - only for golden apples\n",
    "model_test2 = df_test.loc[df_test['Commodities'] == 'APPLE GOLDEN DELICIOUS'].copy()\n",
    "\n",
    "model_test2 = model_test2.drop('Commodities',axis=1)\n",
    "model_test2 = model_test2.drop('Province',axis=1)\n",
    "model_test2 = model_test2.drop('Size_Grade',axis=1)\n",
    "model_test2 = model_test2.drop('Container',axis=1)\n",
    "model_test2 = model_test2.drop('Stock_On_Hand',axis=1)\n",
    "model_test2 = model_test2.drop('Total_Qty_Sold',axis=1)\n",
    "model_test2 = model_test2.drop('Weight_Kg',axis=1)\n",
    "model_test2 = model_test2.drop('Date',axis=1)\n",
    "model_test2 = model_test2.drop('Index', axis=1)"
   ]
  },
  {
   "cell_type": "code",
   "execution_count": 4,
   "metadata": {},
   "outputs": [
    {
     "data": {
      "text/plain": [
       "Ridge()"
      ]
     },
     "execution_count": 4,
     "metadata": {},
     "output_type": "execute_result"
    }
   ],
   "source": [
    "#importing libraries from sklearn\n",
    "from sklearn.linear_model import LinearRegression\n",
    "from sklearn.model_selection import train_test_split as tts\n",
    "from sklearn.linear_model import Lasso\n",
    "from sklearn.linear_model import Ridge\n",
    "from sklearn import metrics\n",
    "import math\n",
    "\n",
    "y = model_train2.avg_price_per_kg # defining label\n",
    "x = model_train2.drop('avg_price_per_kg',axis=1) # defining features\n",
    "\n",
    "x_train, x_test, y_train, y_test = tts(x, y, test_size=0.3505, random_state=1) # creating train-test-split\n",
    "\n",
    "model_lr = LinearRegression(fit_intercept=True) # linear regression model\n",
    "model_lr.fit(x_train, y_train) \n",
    "\n",
    "model_las = Lasso(alpha=1.0) # lasso model\n",
    "model_las.fit(x_train, y_train)\n",
    "\n",
    "model_ridge = Ridge(alpha=1.0) # ridge model\n",
    "model_ridge.fit(x_train, y_train)"
   ]
  },
  {
   "cell_type": "code",
   "execution_count": 5,
   "metadata": {},
   "outputs": [
    {
     "data": {
      "text/plain": [
       "RandomForestRegressor(max_depth=5)"
      ]
     },
     "execution_count": 5,
     "metadata": {},
     "output_type": "execute_result"
    }
   ],
   "source": [
    "from sklearn.ensemble import RandomForestRegressor\n",
    "from sklearn.metrics import mean_squared_error as MSE\n",
    "\n",
    "# Our forest consists of 100 trees with a max depth of 5 in this example\n",
    "model_rf = RandomForestRegressor(n_estimators=100, max_depth=5)\n",
    "model_rf.fit(x_train,y_train)"
   ]
  },
  {
   "cell_type": "code",
   "execution_count": 6,
   "metadata": {},
   "outputs": [
    {
     "data": {
      "text/plain": [
       "DecisionTreeRegressor(max_depth=5)"
      ]
     },
     "execution_count": 6,
     "metadata": {},
     "output_type": "execute_result"
    }
   ],
   "source": [
    "# Fit regression decision tree model\n",
    "from sklearn.tree import DecisionTreeRegressor\n",
    "model_dt = DecisionTreeRegressor(max_depth=5)\n",
    "model_dt.fit(x_train,y_train)"
   ]
  },
  {
   "cell_type": "code",
   "execution_count": 7,
   "metadata": {},
   "outputs": [
    {
     "data": {
      "text/plain": [
       "VotingRegressor(estimators=[('LR', LinearRegression()),\n",
       "                            ('DT', DecisionTreeRegressor(max_depth=5)),\n",
       "                            ('LAS', Lasso()), ('RDG', Ridge())],\n",
       "                weights=array([0.1, 0.3, 0.3, 0.3]))"
      ]
     },
     "execution_count": 7,
     "metadata": {},
     "output_type": "execute_result"
    }
   ],
   "source": [
    "from sklearn.ensemble import VotingRegressor\n",
    "\n",
    "# Define the models which we'll include in our ensemble. \n",
    "\n",
    "models = [(\"LR\",model_lr),(\"DT\",model_dt),(\"LAS\",model_las),(\"RDG\", model_ridge)]\n",
    "\n",
    "# Specify weights for weighted model averaging\n",
    "model_weightings = np.array([0.1,0.3,0.3,0.3])\n",
    "v_reg = VotingRegressor(estimators=models,weights=model_weightings)\n",
    "v_reg.fit(x_train,y_train)"
   ]
  },
  {
   "cell_type": "code",
   "execution_count": 8,
   "metadata": {},
   "outputs": [
    {
     "data": {
      "text/plain": [
       "StackingRegressor(estimators=[('LR', LinearRegression()),\n",
       "                              ('DT', DecisionTreeRegressor(max_depth=5)),\n",
       "                              ('LAS', Lasso()), ('RDG', Ridge())],\n",
       "                  final_estimator=LinearRegression())"
      ]
     },
     "execution_count": 8,
     "metadata": {},
     "output_type": "execute_result"
    }
   ],
   "source": [
    "from sklearn.ensemble import StackingRegressor\n",
    " \n",
    "meta_learner_reg = LinearRegression()\n",
    "s_reg = StackingRegressor(estimators=models, final_estimator=meta_learner_reg)\n",
    "s_reg.fit(x_train,y_train)"
   ]
  },
  {
   "cell_type": "code",
   "execution_count": 9,
   "metadata": {},
   "outputs": [
    {
     "data": {
      "text/plain": [
       "BaggingRegressor(base_estimator=DecisionTreeRegressor(max_depth=5))"
      ]
     },
     "execution_count": 9,
     "metadata": {},
     "output_type": "execute_result"
    }
   ],
   "source": [
    "from sklearn.ensemble import BaggingRegressor\n",
    "# Instantiate BaggingRegressor model with a decision tree as the base model\n",
    "bag_reg = BaggingRegressor(base_estimator = model_dt)\n",
    "bag_reg.fit(x_train,y_train)"
   ]
  },
  {
   "cell_type": "code",
   "execution_count": 10,
   "metadata": {},
   "outputs": [
    {
     "data": {
      "text/plain": [
       "AdaBoostRegressor(base_estimator=DecisionTreeRegressor(max_depth=5))"
      ]
     },
     "execution_count": 10,
     "metadata": {},
     "output_type": "execute_result"
    }
   ],
   "source": [
    "from sklearn.ensemble import AdaBoostRegressor\n",
    "\n",
    "bst_reg = AdaBoostRegressor(base_estimator = model_dt)\n",
    "bst_reg.fit(x_train,y_train)"
   ]
  },
  {
   "cell_type": "code",
   "execution_count": 19,
   "metadata": {},
   "outputs": [
    {
     "name": "stdout",
     "output_type": "stream",
     "text": [
      "Fitting 10 folds for each of 36 candidates, totalling 360 fits\n"
     ]
    },
    {
     "name": "stderr",
     "output_type": "stream",
     "text": [
      "[Parallel(n_jobs=-1)]: Using backend LokyBackend with 4 concurrent workers.\n",
      "[Parallel(n_jobs=-1)]: Done  42 tasks      | elapsed:   30.6s\n",
      "[Parallel(n_jobs=-1)]: Done 192 tasks      | elapsed:  2.7min\n",
      "[Parallel(n_jobs=-1)]: Done 360 out of 360 | elapsed:  4.7min finished\n"
     ]
    }
   ],
   "source": [
    "# Define params_rf\n",
    "params_rf = {'n_estimators':[100,350,500],'max_features':['log2','auto','sqrt', 0.5],'min_samples_leaf':[2,10,30]}\n",
    "# Import GridSearchCV\n",
    "from sklearn.model_selection import GridSearchCV\n",
    "# Import RandomForestRegressor\n",
    "from sklearn.ensemble import RandomForestRegressor\n",
    "\n",
    "# Instantiate rf\n",
    "rf = RandomForestRegressor(n_estimators=25,\n",
    "            random_state=2)\n",
    "\n",
    "# Instantiate grid_rf\n",
    "grid_rf = GridSearchCV(estimator=rf,\n",
    "                       param_grid=params_rf,\n",
    "                       scoring='neg_mean_squared_error',\n",
    "                       cv=10,\n",
    "                       verbose=1,\n",
    "                       n_jobs=-1)\n",
    "\n",
    "grid_rf.fit(x_train, y_train)\n",
    "# Extract the best estimator\n",
    "best_model = grid_rf.best_estimator_\n",
    "\n",
    "# Predict test set labels\n",
    "y_pred = best_model.predict(x_test)\n"
   ]
  },
  {
   "cell_type": "code",
   "execution_count": 20,
   "metadata": {},
   "outputs": [
    {
     "data": {
      "text/html": [
       "<div>\n",
       "<style scoped>\n",
       "    .dataframe tbody tr th:only-of-type {\n",
       "        vertical-align: middle;\n",
       "    }\n",
       "\n",
       "    .dataframe tbody tr th {\n",
       "        vertical-align: top;\n",
       "    }\n",
       "\n",
       "    .dataframe thead th {\n",
       "        text-align: right;\n",
       "    }\n",
       "</style>\n",
       "<table border=\"1\" class=\"dataframe\">\n",
       "  <thead>\n",
       "    <tr style=\"text-align: right;\">\n",
       "      <th></th>\n",
       "      <th>Training MSE</th>\n",
       "      <th>Test MSE</th>\n",
       "      <th>Test RMSE</th>\n",
       "      <th>R-Squared</th>\n",
       "    </tr>\n",
       "  </thead>\n",
       "  <tbody>\n",
       "    <tr>\n",
       "      <th>Linear</th>\n",
       "      <td>4.233436</td>\n",
       "      <td>5.282723</td>\n",
       "      <td>2.298418</td>\n",
       "      <td>-0.166192</td>\n",
       "    </tr>\n",
       "    <tr>\n",
       "      <th>Lasso</th>\n",
       "      <td>4.233025</td>\n",
       "      <td>5.280997</td>\n",
       "      <td>2.298042</td>\n",
       "      <td>-0.165811</td>\n",
       "    </tr>\n",
       "    <tr>\n",
       "      <th>Ridge</th>\n",
       "      <td>4.233436</td>\n",
       "      <td>5.282723</td>\n",
       "      <td>2.298418</td>\n",
       "      <td>-0.166192</td>\n",
       "    </tr>\n",
       "    <tr>\n",
       "      <th>Random Forest</th>\n",
       "      <td>0.926920</td>\n",
       "      <td>8.192185</td>\n",
       "      <td>2.862199</td>\n",
       "      <td>-0.808472</td>\n",
       "    </tr>\n",
       "    <tr>\n",
       "      <th>Decision Tree</th>\n",
       "      <td>1.053688</td>\n",
       "      <td>8.495962</td>\n",
       "      <td>2.914783</td>\n",
       "      <td>-0.875533</td>\n",
       "    </tr>\n",
       "    <tr>\n",
       "      <th>Voting</th>\n",
       "      <td>2.521630</td>\n",
       "      <td>5.580657</td>\n",
       "      <td>2.362341</td>\n",
       "      <td>-0.231962</td>\n",
       "    </tr>\n",
       "    <tr>\n",
       "      <th>Stacking</th>\n",
       "      <td>1.011996</td>\n",
       "      <td>8.381113</td>\n",
       "      <td>2.895015</td>\n",
       "      <td>-0.850179</td>\n",
       "    </tr>\n",
       "    <tr>\n",
       "      <th>Bagging</th>\n",
       "      <td>0.950452</td>\n",
       "      <td>8.175599</td>\n",
       "      <td>2.859300</td>\n",
       "      <td>-0.804811</td>\n",
       "    </tr>\n",
       "    <tr>\n",
       "      <th>Ada Boost</th>\n",
       "      <td>0.843844</td>\n",
       "      <td>8.151859</td>\n",
       "      <td>2.855146</td>\n",
       "      <td>-0.799570</td>\n",
       "    </tr>\n",
       "    <tr>\n",
       "      <th>Grid Search Best Model</th>\n",
       "      <td>0.246973</td>\n",
       "      <td>8.413874</td>\n",
       "      <td>2.900668</td>\n",
       "      <td>-0.857411</td>\n",
       "    </tr>\n",
       "  </tbody>\n",
       "</table>\n",
       "</div>"
      ],
      "text/plain": [
       "                        Training MSE  Test MSE  Test RMSE  R-Squared\n",
       "Linear                      4.233436  5.282723   2.298418  -0.166192\n",
       "Lasso                       4.233025  5.280997   2.298042  -0.165811\n",
       "Ridge                       4.233436  5.282723   2.298418  -0.166192\n",
       "Random Forest               0.926920  8.192185   2.862199  -0.808472\n",
       "Decision Tree               1.053688  8.495962   2.914783  -0.875533\n",
       "Voting                      2.521630  5.580657   2.362341  -0.231962\n",
       "Stacking                    1.011996  8.381113   2.895015  -0.850179\n",
       "Bagging                     0.950452  8.175599   2.859300  -0.804811\n",
       "Ada Boost                   0.843844  8.151859   2.855146  -0.799570\n",
       "Grid Search Best Model      0.246973  8.413874   2.900668  -0.857411"
      ]
     },
     "execution_count": 20,
     "metadata": {},
     "output_type": "execute_result"
    }
   ],
   "source": [
    "# dictionary of results\n",
    "results_dict = {'Training MSE':\n",
    "                    {\n",
    "                        \"Linear\": metrics.mean_squared_error(y_train, model_lr.predict(x_train)),\n",
    "                        \"Lasso\": metrics.mean_squared_error(y_train, model_las.predict(x_train)),\n",
    "                        \"Ridge\": metrics.mean_squared_error(y_train, model_ridge.predict(x_train)),\n",
    "                        \"Random Forest\": metrics.mean_squared_error(y_train, model_rf.predict(x_train)),\n",
    "                        \"Decision Tree\": metrics.mean_squared_error(y_train, model_dt.predict(x_train)),\n",
    "                        \"Voting\": metrics.mean_squared_error(y_train, v_reg.predict(x_train)),\n",
    "                        \"Stacking\": metrics.mean_squared_error(y_train, s_reg.predict(x_train)),\n",
    "                        \"Bagging\": metrics.mean_squared_error(y_train, bag_reg.predict(x_train)),\n",
    "                        \"Ada Boost\": metrics.mean_squared_error(y_train, bst_reg.predict(x_train)),\n",
    "                        \"Grid Search Best Model\": metrics.mean_squared_error(y_train, best_model.predict(x_train)),\n",
    "                    },\n",
    "                'Test MSE':\n",
    "                    {\n",
    "                        \"Linear\": metrics.mean_squared_error(y_test, model_lr.predict(x_test)),\n",
    "                        \"Lasso\": metrics.mean_squared_error(y_test, model_las.predict(x_test)),\n",
    "                        \"Ridge\": metrics.mean_squared_error(y_test, model_ridge.predict(x_test)),\n",
    "                        \"Random Forest\": metrics.mean_squared_error(y_test, model_rf.predict(x_test)),\n",
    "                        \"Decision Tree\": metrics.mean_squared_error(y_test, model_dt.predict(x_test)),\n",
    "                        \"Voting\": metrics.mean_squared_error(y_test, v_reg.predict(x_test)),\n",
    "                        \"Stacking\": metrics.mean_squared_error(y_test, s_reg.predict(x_test)),\n",
    "                        \"Bagging\": metrics.mean_squared_error(y_test, bag_reg.predict(x_test)),\n",
    "                        \"Ada Boost\": metrics.mean_squared_error(y_test, bst_reg.predict(x_test)),\n",
    "                        \"Grid Search Best Model\": metrics.mean_squared_error(y_test, best_model.predict(x_test)),\n",
    "                    },\n",
    "                'Test RMSE':\n",
    "                    {\n",
    "                        \"Linear\": math.sqrt(metrics.mean_squared_error(y_test, model_lr.predict(x_test))),\n",
    "                        \"Lasso\": math.sqrt(metrics.mean_squared_error(y_test, model_las.predict(x_test))),\n",
    "                        \"Ridge\": math.sqrt(metrics.mean_squared_error(y_test, model_ridge.predict(x_test))),\n",
    "                        \"Random Forest\": math.sqrt(metrics.mean_squared_error(y_test, model_rf.predict(x_test))),\n",
    "                        \"Decision Tree\": math.sqrt(metrics.mean_squared_error(y_test, model_dt.predict(x_test))),\n",
    "                        \"Voting\": math.sqrt(metrics.mean_squared_error(y_test, v_reg.predict(x_test))),\n",
    "                        \"Stacking\": math.sqrt(metrics.mean_squared_error(y_test, s_reg.predict(x_test))),\n",
    "                        \"Bagging\": math.sqrt(metrics.mean_squared_error(y_test, bag_reg.predict(x_test))),\n",
    "                        \"Ada Boost\": math.sqrt(metrics.mean_squared_error(y_test, bst_reg.predict(x_test))),\n",
    "                        \"Grid Search Best Model\": math.sqrt(metrics.mean_squared_error(y_test, best_model.predict(x_test))),\n",
    "                    },\n",
    "                'R-Squared':\n",
    "                    {\n",
    "                        \"Linear\": metrics.r2_score(y_test, model_lr.predict(x_test)),\n",
    "                        \"Lasso\": metrics.r2_score(y_test, model_las.predict(x_test)),\n",
    "                        \"Ridge\": metrics.r2_score(y_test, model_ridge.predict(x_test)),\n",
    "                        \"Random Forest\": metrics.r2_score(y_test, model_rf.predict(x_test)),\n",
    "                        \"Decision Tree\": metrics.r2_score(y_test, model_dt.predict(x_test)),\n",
    "                        \"Voting\": metrics.r2_score(y_test, v_reg.predict(x_test)),\n",
    "                        \"Stacking\": metrics.r2_score(y_test, s_reg.predict(x_test)),\n",
    "                        \"Bagging\": metrics.r2_score(y_test, bag_reg.predict(x_test)),\n",
    "                        \"Ada Boost\": metrics.r2_score(y_test, bst_reg.predict(x_test)),\n",
    "                        \"Grid Search Best Model\": metrics.r2_score(y_test, best_model.predict(x_test)),\n",
    "                    }\n",
    "                }\n",
    "\n",
    "# create dataframe from dictionary\n",
    "results_df = pd.DataFrame(data=results_dict)\n",
    "\n",
    "results_df"
   ]
  },
  {
   "cell_type": "code",
   "execution_count": 13,
   "metadata": {},
   "outputs": [],
   "source": [
    "y_train = model_train2.avg_price_per_kg # defining label\n",
    "x_train = model_train2.drop('avg_price_per_kg',axis=1) # defining features\n",
    "\n",
    "x_test = model_test2\n",
    "\n",
    "y_pred = best_model.predict(x_test)"
   ]
  },
  {
   "cell_type": "code",
   "execution_count": 14,
   "metadata": {},
   "outputs": [],
   "source": [
    "index = df_test['Index']"
   ]
  },
  {
   "cell_type": "code",
   "execution_count": 15,
   "metadata": {},
   "outputs": [],
   "source": [
    "submission = pd.DataFrame({'Index' : index, 'avg_price_per_kg' : y_pred})"
   ]
  },
  {
   "cell_type": "code",
   "execution_count": 16,
   "metadata": {},
   "outputs": [],
   "source": [
    "submission.to_csv(r'C:\\Users\\tamak\\Desktop\\Data Science\\Predicts\\EDSA_ZM-Team1\\KaggleCSV.csv', index = False)"
   ]
  },
  {
   "cell_type": "markdown",
   "metadata": {},
   "source": []
  }
 ],
 "metadata": {
  "kernelspec": {
   "display_name": "Python 3",
   "language": "python",
   "name": "python3"
  },
  "language_info": {
   "codemirror_mode": {
    "name": "ipython",
    "version": 3
   },
   "file_extension": ".py",
   "mimetype": "text/x-python",
   "name": "python",
   "nbconvert_exporter": "python",
   "pygments_lexer": "ipython3",
   "version": "3.6.10"
  }
 },
 "nbformat": 4,
 "nbformat_minor": 4
}
